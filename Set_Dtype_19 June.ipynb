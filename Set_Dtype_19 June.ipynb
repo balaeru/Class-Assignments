{
 "cells": [
  {
   "cell_type": "markdown",
   "metadata": {
    "id": "jh5m4BfimJbE"
   },
   "source": [
    "**[Slide No. 41]**\n",
    "\n",
    "1. Write a Python program to create a set."
   ]
  },
  {
   "cell_type": "code",
   "execution_count": 2,
   "metadata": {
    "colab": {
     "base_uri": "https://localhost:8080/"
    },
    "executionInfo": {
     "elapsed": 39,
     "status": "ok",
     "timestamp": 1621776408787,
     "user": {
      "displayName": "Krishan Kumar",
      "photoUrl": "",
      "userId": "12260471180281868064"
     },
     "user_tz": 420
    },
    "id": "CTpqrX9_n3Sc",
    "outputId": "f02feb86-3556-4705-fad3-71c8a9b57957"
   },
   "outputs": [
    {
     "data": {
      "text/plain": [
       "set"
      ]
     },
     "execution_count": 2,
     "metadata": {},
     "output_type": "execute_result"
    }
   ],
   "source": [
    "s1 = {1,2,3,4}\n",
    "type(s1)"
   ]
  },
  {
   "cell_type": "markdown",
   "metadata": {
    "id": "u1lQCDqqmJvW"
   },
   "source": [
    "**[Slide No.41]**\n",
    "\n",
    "2. Write a Python program to add member(s) in a set."
   ]
  },
  {
   "cell_type": "code",
   "execution_count": 15,
   "metadata": {
    "colab": {
     "base_uri": "https://localhost:8080/"
    },
    "executionInfo": {
     "elapsed": 512,
     "status": "ok",
     "timestamp": 1621776747557,
     "user": {
      "displayName": "Krishan Kumar",
      "photoUrl": "",
      "userId": "12260471180281868064"
     },
     "user_tz": 420
    },
    "id": "G3Mwr81Wn3vK",
    "outputId": "5d4b4619-3282-4c28-b2c7-1b0a70a4735b"
   },
   "outputs": [
    {
     "data": {
      "text/plain": [
       "{1, 2, 3, 4, 7}"
      ]
     },
     "execution_count": 15,
     "metadata": {},
     "output_type": "execute_result"
    }
   ],
   "source": [
    "s1 = {1,2,3,4}\n",
    "s1.add(7)\n",
    "s1"
   ]
  },
  {
   "cell_type": "markdown",
   "metadata": {
    "id": "_K8Yt3yCmJy7"
   },
   "source": [
    "**[Slide No. 41]**\n",
    " \n",
    " 3. Write a Python program to add string , int, list and float  member(s) in a set."
   ]
  },
  {
   "cell_type": "code",
   "execution_count": 17,
   "metadata": {
    "colab": {
     "base_uri": "https://localhost:8080/"
    },
    "executionInfo": {
     "elapsed": 2754,
     "status": "ok",
     "timestamp": 1619161131867,
     "user": {
      "displayName": "Krishan Kumar",
      "photoUrl": "",
      "userId": "12260471180281868064"
     },
     "user_tz": 420
    },
    "id": "LRjHXMPXn4RT",
    "outputId": "03941903-5cad-4d7e-e6cc-3a25ee265cbf"
   },
   "outputs": [
    {
     "name": "stdout",
     "output_type": "stream",
     "text": [
      "{0, 1, 2, 3, 4, 'ab', 65, 7, 8, 9, 98.0}\n"
     ]
    }
   ],
   "source": [
    "list1 = [9,8,0]\n",
    "string = 'ab'\n",
    "i = 65\n",
    "f = 98.0\n",
    "s1.update(list1)\n",
    "s1.add(string)\n",
    "s1.add(i)\n",
    "s1.add(f)\n",
    "print(s1)"
   ]
  },
  {
   "cell_type": "markdown",
   "metadata": {
    "id": "eP30xm0cmJ2K"
   },
   "source": [
    "**[Slide No. 41]**\n",
    "\n",
    "4. Write a program to add multiple element in set. "
   ]
  },
  {
   "cell_type": "code",
   "execution_count": 18,
   "metadata": {
    "id": "wIt1MXX2n4va"
   },
   "outputs": [
    {
     "name": "stdout",
     "output_type": "stream",
     "text": [
      "{0, 1, 2, 3, 4, 'ab', 65, 7, 8, 9, 98.0, 'c', 9.89, 'asdg', 20}\n"
     ]
    }
   ],
   "source": [
    "list2 = ['c', 20, 9.890, 'asdg']\n",
    "s1.update(list2)\n",
    "print(s1)"
   ]
  },
  {
   "cell_type": "markdown",
   "metadata": {
    "id": "MMb-QgjymJ5h"
   },
   "source": [
    "**[Slide No. 43]**\n",
    "\n",
    "5. What is the output :\n",
    "\n",
    "my_set = {1, 3, 4, 5, 6}\n",
    "\n",
    "Explain the difference between discard and remove method in set"
   ]
  },
  {
   "cell_type": "code",
   "execution_count": 20,
   "metadata": {
    "colab": {
     "base_uri": "https://localhost:8080/"
    },
    "executionInfo": {
     "elapsed": 459,
     "status": "ok",
     "timestamp": 1621776952145,
     "user": {
      "displayName": "Krishan Kumar",
      "photoUrl": "",
      "userId": "12260471180281868064"
     },
     "user_tz": 420
    },
    "id": "aWiaJsGBn5X1",
    "outputId": "c82d7d04-3f42-415e-865b-fdffa562c6cf"
   },
   "outputs": [
    {
     "data": {
      "text/plain": [
       "{1, 3, 4, 6}"
      ]
     },
     "execution_count": 20,
     "metadata": {},
     "output_type": "execute_result"
    }
   ],
   "source": [
    "my_set = {1,3,4,5,6}\n",
    "my_set.remove(5)        #The argument must be a member of the set for the remove function to work\n",
    "my_set"
   ]
  },
  {
   "cell_type": "code",
   "execution_count": 21,
   "metadata": {},
   "outputs": [
    {
     "name": "stdout",
     "output_type": "stream",
     "text": [
      "{1, 3, 4, 5, 6}\n"
     ]
    }
   ],
   "source": [
    "my_set = {1,3,4,5,6}\n",
    "my_set.discard(7) #The argument is not necessary to be a part of the set. If it's in the set,it'll remove. If not, does nothing\n",
    "print(my_set)"
   ]
  },
  {
   "cell_type": "markdown",
   "metadata": {
    "id": "232Wx7ZqmJ7u"
   },
   "source": [
    "**[Slide No. 42]**\n",
    "\n",
    "6. Write a program to remove duplicate value from set.\n"
   ]
  },
  {
   "cell_type": "code",
   "execution_count": 23,
   "metadata": {
    "id": "0eDe4Ofln56S"
   },
   "outputs": [
    {
     "name": "stdout",
     "output_type": "stream",
     "text": [
      "{1, 2, 4, 5, 6, 7, 8, 9, 'a'}\n"
     ]
    }
   ],
   "source": [
    "s2 = {1,1,2,4,5,6,5,6,7,8,9,'a','a'}\n",
    "print(s2)            #Sets doesn't allow duplicate values. It automatically removes the duplicates"
   ]
  },
  {
   "cell_type": "markdown",
   "metadata": {
    "id": "UuFjaDp7mJ-0"
   },
   "source": [
    "7.  Write a Python program to clear a set."
   ]
  },
  {
   "cell_type": "code",
   "execution_count": 24,
   "metadata": {
    "id": "2Wp51_BJn6XI"
   },
   "outputs": [
    {
     "name": "stdout",
     "output_type": "stream",
     "text": [
      "set()\n"
     ]
    }
   ],
   "source": [
    "s3 = {1,2,3,4,5,6,7,8,9,0}\n",
    "s3.clear()\n",
    "print(s3)"
   ]
  },
  {
   "cell_type": "markdown",
   "metadata": {
    "id": "ymIOwvtSmKCN"
   },
   "source": [
    "**[Slide No. 43]**\n",
    "\n",
    "8. Write a program to add two set."
   ]
  },
  {
   "cell_type": "code",
   "execution_count": 28,
   "metadata": {
    "id": "v7HfWA6On7DN"
   },
   "outputs": [
    {
     "name": "stdout",
     "output_type": "stream",
     "text": [
      "{1, 'b', 2, 'a'}\n"
     ]
    }
   ],
   "source": [
    "s4 = {'a','b'}\n",
    "s5 = {1,2}\n",
    "s4.update(s5)\n",
    "print(s4)"
   ]
  },
  {
   "cell_type": "markdown",
   "metadata": {
    "id": "MYFq0syFmKFm"
   },
   "source": [
    "**[Slide No. 43]**\n",
    "\n",
    "9. What is the output of:\n",
    "\n",
    "months = set([\"January\",\"February\", \"March\", \"April\", \"May\", \"June\"])   \n",
    "\n",
    "print(\"\\nprinting the original set ... \")    \n",
    "\n",
    "-Q. Print the set month    \n",
    "\n",
    "print(\"\\nRemoving some months from the set...\");    \n",
    "\n",
    "-Q. Remove january  from the set    \n",
    "\n",
    "-Q. Remove may  from the set  \n",
    "\n",
    "\n",
    "print(\"\\nPrinting the modified set...\");    \n",
    "\n",
    "print(months)  \n",
    "\n"
   ]
  },
  {
   "cell_type": "code",
   "execution_count": 29,
   "metadata": {
    "id": "YSeAk9Bin7ij"
   },
   "outputs": [
    {
     "name": "stdout",
     "output_type": "stream",
     "text": [
      "\n",
      "printing the original set ... \n",
      "{'May', 'March', 'January', 'February', 'April', 'June'}\n",
      "\n",
      "Removing some months from the set...\n",
      "\n",
      "Printing the modified set...\n",
      "{'March', 'February', 'April', 'June'}\n"
     ]
    }
   ],
   "source": [
    "months = set([\"January\",\"February\", \"March\", \"April\", \"May\", \"June\"])\n",
    "\n",
    "print(\"\\nprinting the original set ... \")\n",
    "\n",
    "print(months)\n",
    "\n",
    "print(\"\\nRemoving some months from the set...\");\n",
    "\n",
    "months.remove('January')\n",
    "months.remove('May')\n",
    "\n",
    "print(\"\\nPrinting the modified set...\");\n",
    "\n",
    "print(months)"
   ]
  },
  {
   "cell_type": "markdown",
   "metadata": {
    "id": "OPGKae_wmKIy"
   },
   "source": [
    "**[Slide No. 44]**\n",
    "\n",
    "10. Find union of\n",
    "\n",
    "Days1 = {\"Monday\",\"Tuesday\",\"Wednesday\",\"Thursday\"}\n",
    "    \n",
    "Days2 = {\"Friday\",\"Saturday\",\"Sunday\"}   "
   ]
  },
  {
   "cell_type": "code",
   "execution_count": 30,
   "metadata": {
    "id": "IJBJD9D106cY"
   },
   "outputs": [
    {
     "data": {
      "text/plain": [
       "{'Friday', 'Monday', 'Saturday', 'Sunday', 'Thursday', 'Tuesday', 'Wednesday'}"
      ]
     },
     "execution_count": 30,
     "metadata": {},
     "output_type": "execute_result"
    }
   ],
   "source": [
    "Days1 = {\"Monday\",\"Tuesday\",\"Wednesday\",\"Thursday\"}\n",
    "\n",
    "Days2 = {\"Friday\",\"Saturday\",\"Sunday\"}\n",
    "\n",
    "Days1.union(Days2)"
   ]
  },
  {
   "cell_type": "markdown",
   "metadata": {
    "id": "VpAPmiIBoNaS"
   },
   "source": [
    "**[Slide No. 45]**\n",
    "\n",
    " 11. Write a Python program to create an intersection of sets."
   ]
  },
  {
   "cell_type": "code",
   "execution_count": 31,
   "metadata": {
    "id": "MRzfzZ3bn8O0"
   },
   "outputs": [
    {
     "data": {
      "text/plain": [
       "{2, 4}"
      ]
     },
     "execution_count": 31,
     "metadata": {},
     "output_type": "execute_result"
    }
   ],
   "source": [
    "ex1 = {1,2,3,4,5,6}\n",
    "ex2 = {'a',2,'c',4}\n",
    "ex1.intersection(ex2)"
   ]
  },
  {
   "cell_type": "markdown",
   "metadata": {
    "id": "iIFHboGboH9v"
   },
   "source": [
    "**[Slide No. 45]**\n",
    "\n",
    "12. Write a Python program to create set difference."
   ]
  },
  {
   "cell_type": "code",
   "execution_count": 32,
   "metadata": {
    "id": "E5RwOmVNtTie"
   },
   "outputs": [
    {
     "data": {
      "text/plain": [
       "{1, 3, 5, 6}"
      ]
     },
     "execution_count": 32,
     "metadata": {},
     "output_type": "execute_result"
    }
   ],
   "source": [
    "ex1.difference(ex2)"
   ]
  },
  {
   "cell_type": "code",
   "execution_count": 33,
   "metadata": {},
   "outputs": [
    {
     "data": {
      "text/plain": [
       "{'a', 'c'}"
      ]
     },
     "execution_count": 33,
     "metadata": {},
     "output_type": "execute_result"
    }
   ],
   "source": [
    "ex2.difference(ex1)"
   ]
  },
  {
   "cell_type": "code",
   "execution_count": null,
   "metadata": {},
   "outputs": [],
   "source": []
  }
 ],
 "metadata": {
  "colab": {
   "collapsed_sections": [],
   "name": "Set_Dtype.ipynb",
   "provenance": []
  },
  "kernelspec": {
   "display_name": "Python 3",
   "language": "python",
   "name": "python3"
  },
  "language_info": {
   "codemirror_mode": {
    "name": "ipython",
    "version": 3
   },
   "file_extension": ".py",
   "mimetype": "text/x-python",
   "name": "python",
   "nbconvert_exporter": "python",
   "pygments_lexer": "ipython3",
   "version": "3.8.8"
  }
 },
 "nbformat": 4,
 "nbformat_minor": 1
}
