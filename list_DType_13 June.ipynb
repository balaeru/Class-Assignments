{
 "cells": [
  {
   "cell_type": "markdown",
   "metadata": {
    "id": "7DHlxw7KS4LO"
   },
   "source": [
    "**[Slide No.- 35]**\n",
    "\n",
    "1. Create a empty list and check its Data type "
   ]
  },
  {
   "cell_type": "code",
   "execution_count": 1,
   "metadata": {
    "id": "9tPdozyQj7cu"
   },
   "outputs": [],
   "source": [
    "list1=[]"
   ]
  },
  {
   "cell_type": "code",
   "execution_count": 3,
   "metadata": {
    "colab": {
     "base_uri": "https://localhost:8080/"
    },
    "executionInfo": {
     "elapsed": 36,
     "status": "ok",
     "timestamp": 1621688026616,
     "user": {
      "displayName": "Decodr Academy",
      "photoUrl": "",
      "userId": "02634807145547483916"
     },
     "user_tz": 420
    },
    "id": "RtfUHgj5a45J",
    "outputId": "2a7f3074-7258-446c-bea5-e960cfcd4c18"
   },
   "outputs": [
    {
     "name": "stdout",
     "output_type": "stream",
     "text": [
      "<class 'list'>\n"
     ]
    }
   ],
   "source": [
    "print(type(list1))"
   ]
  },
  {
   "cell_type": "markdown",
   "metadata": {
    "id": "4EnsxsI0FPcv"
   },
   "source": []
  },
  {
   "cell_type": "markdown",
   "metadata": {
    "id": "ef5HNtgtSDwz"
   },
   "source": []
  },
  {
   "cell_type": "markdown",
   "metadata": {
    "id": "KbC4gtb0Wo4u"
   },
   "source": [
    "**[Slide No.- 35]**\n",
    "\n",
    "2. Create a list in which at even places string are present and at odd places integervalue is present and the length of the string is 6."
   ]
  },
  {
   "cell_type": "code",
   "execution_count": 4,
   "metadata": {
    "id": "BzIsIJzXWpMO"
   },
   "outputs": [
    {
     "data": {
      "text/plain": [
       "6"
      ]
     },
     "execution_count": 4,
     "metadata": {},
     "output_type": "execute_result"
    }
   ],
   "source": [
    "list2 = ['a',2,'b',4,'c',6]\n",
    "len(list2)"
   ]
  },
  {
   "cell_type": "markdown",
   "metadata": {
    "id": "NhGbCdSfTFa7"
   },
   "source": [
    "**[Slide No. - 36]**\n",
    "\n",
    "3. Create a lsit which has 6 elements and print last three elements from the list "
   ]
  },
  {
   "cell_type": "code",
   "execution_count": 2,
   "metadata": {
    "id": "SUzgZi8DTF5C"
   },
   "outputs": [
    {
     "data": {
      "text/plain": [
       "[4, 5, 6]"
      ]
     },
     "execution_count": 2,
     "metadata": {},
     "output_type": "execute_result"
    }
   ],
   "source": [
    "list3 = [1,2,3,4,5,6]\n",
    "list3[3:]"
   ]
  },
  {
   "cell_type": "markdown",
   "metadata": {
    "id": "3LhHLCB6Tm8K"
   },
   "source": [
    "**[Slide No. - 36 ]**\n",
    "\n",
    "4. What is the output :\n",
    " list = [1,2,3,4,5,6,7] \n",
    " \n",
    " list[:]=?"
   ]
  },
  {
   "cell_type": "code",
   "execution_count": 3,
   "metadata": {
    "colab": {
     "base_uri": "https://localhost:8080/"
    },
    "executionInfo": {
     "elapsed": 532,
     "status": "ok",
     "timestamp": 1621688819519,
     "user": {
      "displayName": "Decodr Academy",
      "photoUrl": "",
      "userId": "02634807145547483916"
     },
     "user_tz": 420
    },
    "id": "zfkX5LLzTnXP",
    "outputId": "a95ef6db-626c-49f9-adb4-f53056ae2530"
   },
   "outputs": [
    {
     "data": {
      "text/plain": [
       "[1, 2, 3, 4, 5, 6, 7]"
      ]
     },
     "execution_count": 3,
     "metadata": {},
     "output_type": "execute_result"
    }
   ],
   "source": [
    "list4 = [1,2,3,4,5,6,7]\n",
    "list4[:]"
   ]
  },
  {
   "cell_type": "markdown",
   "metadata": {
    "id": "93qfPdkuTnfg"
   },
   "source": [
    "**[Slide No. - 36]**\n",
    "\n",
    "5. What is the output : list = [1,2,3,4,5,6,7]\n",
    "\n",
    "Print the even places items from the list."
   ]
  },
  {
   "cell_type": "code",
   "execution_count": 5,
   "metadata": {
    "colab": {
     "base_uri": "https://localhost:8080/"
    },
    "executionInfo": {
     "elapsed": 484,
     "status": "ok",
     "timestamp": 1621689151379,
     "user": {
      "displayName": "Decodr Academy",
      "photoUrl": "",
      "userId": "02634807145547483916"
     },
     "user_tz": 420
    },
    "id": "otaNABAtTnrp",
    "outputId": "34745c0b-4788-4ba3-ec8e-30bc9b456180"
   },
   "outputs": [
    {
     "data": {
      "text/plain": [
       "[1, 3, 5, 7]"
      ]
     },
     "execution_count": 5,
     "metadata": {},
     "output_type": "execute_result"
    }
   ],
   "source": [
    "list4[::2]"
   ]
  },
  {
   "cell_type": "markdown",
   "metadata": {
    "id": "SdSk9Z-vTn4h"
   },
   "source": [
    "**[Slide No. - 36]**\n",
    "\n",
    "6. What is the output : list = [1,2,3,4,10,11,7]\n",
    "\n",
    "print 10 and 11 item from the list ."
   ]
  },
  {
   "cell_type": "code",
   "execution_count": 7,
   "metadata": {
    "colab": {
     "base_uri": "https://localhost:8080/"
    },
    "executionInfo": {
     "elapsed": 467,
     "status": "ok",
     "timestamp": 1621689390313,
     "user": {
      "displayName": "Decodr Academy",
      "photoUrl": "",
      "userId": "02634807145547483916"
     },
     "user_tz": 420
    },
    "id": "i9rupinIToAR",
    "outputId": "dd0b0d54-b7bc-42d2-d248-61db533898c3"
   },
   "outputs": [
    {
     "data": {
      "text/plain": [
       "[10, 11]"
      ]
     },
     "execution_count": 7,
     "metadata": {},
     "output_type": "execute_result"
    }
   ],
   "source": [
    "list5 = [1,2,3,4,10,11,7]\n",
    "list5[4:6]"
   ]
  },
  {
   "cell_type": "code",
   "execution_count": 9,
   "metadata": {
    "colab": {
     "base_uri": "https://localhost:8080/"
    },
    "executionInfo": {
     "elapsed": 12,
     "status": "ok",
     "timestamp": 1621689499335,
     "user": {
      "displayName": "Decodr Academy",
      "photoUrl": "",
      "userId": "02634807145547483916"
     },
     "user_tz": 420
    },
    "id": "MwcV2xqgOIb9",
    "outputId": "038e75c3-1912-4ce6-fb61-b3415472221c"
   },
   "outputs": [
    {
     "data": {
      "text/plain": [
       "[7, 11, 10, 4, 3, 2, 1]"
      ]
     },
     "execution_count": 9,
     "metadata": {},
     "output_type": "execute_result"
    }
   ],
   "source": [
    "list5[::-1]"
   ]
  },
  {
   "cell_type": "markdown",
   "metadata": {
    "id": "jKf-xLTiToHF"
   },
   "source": [
    "**[Slide No. -38]**\n",
    "\n",
    "7.  Delete the 3 index value from the list and the print the list.\n",
    "\n",
    "list = [1, 2, 3, 4, 5, 6]    \n",
    "\n",
    "print(list)    \n",
    "    \n",
    " "
   ]
  },
  {
   "cell_type": "code",
   "execution_count": 15,
   "metadata": {
    "colab": {
     "base_uri": "https://localhost:8080/"
    },
    "executionInfo": {
     "elapsed": 500,
     "status": "ok",
     "timestamp": 1621689638863,
     "user": {
      "displayName": "Decodr Academy",
      "photoUrl": "",
      "userId": "02634807145547483916"
     },
     "user_tz": 420
    },
    "id": "YSwSSoZSToQT",
    "outputId": "bb8664cb-53bc-475b-dd78-3ae2aff89326"
   },
   "outputs": [
    {
     "data": {
      "text/plain": [
       "[1, 2, 3, 5, 6]"
      ]
     },
     "execution_count": 15,
     "metadata": {},
     "output_type": "execute_result"
    }
   ],
   "source": [
    "list6 = [1,2,3,4,5,6]\n",
    "list6.pop(3)\n",
    "list6"
   ]
  },
  {
   "cell_type": "markdown",
   "metadata": {
    "id": "XqIA7Ia9Umga"
   },
   "source": [
    "[Slide No. - 37]\n",
    "8. list = [1, \"a\", 3, 4, 5, 6] \n",
    "\n",
    "replace \"a\" by 2 in the list\n",
    "\n",
    "What is the new list?"
   ]
  },
  {
   "cell_type": "code",
   "execution_count": 13,
   "metadata": {
    "id": "fCgmnwKlUm7K"
   },
   "outputs": [
    {
     "data": {
      "text/plain": [
       "[1, 2, 3, 4, 5, 6]"
      ]
     },
     "execution_count": 13,
     "metadata": {},
     "output_type": "execute_result"
    }
   ],
   "source": [
    "list7 = [1,'a',3,4,5,6]\n",
    "list7[1]=2\n",
    "list7"
   ]
  },
  {
   "cell_type": "markdown",
   "metadata": {
    "id": "PbqBBeiMUnMA"
   },
   "source": [
    "**[Slide No - 37]**\n",
    "\n",
    "9. list = [1, 2, 3, 4, 5, 6] \n",
    "\n",
    "by using neagtive indexing replace 5 by 'e' in the list \n",
    "\n",
    "print(list)"
   ]
  },
  {
   "cell_type": "code",
   "execution_count": 16,
   "metadata": {
    "colab": {
     "base_uri": "https://localhost:8080/"
    },
    "executionInfo": {
     "elapsed": 488,
     "status": "ok",
     "timestamp": 1621690200549,
     "user": {
      "displayName": "Decodr Academy",
      "photoUrl": "",
      "userId": "02634807145547483916"
     },
     "user_tz": 420
    },
    "id": "EsvRWH48UnWJ",
    "outputId": "f99511ad-43d7-465a-d841-6174621ba3eb"
   },
   "outputs": [
    {
     "data": {
      "text/plain": [
       "[1, 2, 3, 4, 'e', 6]"
      ]
     },
     "execution_count": 16,
     "metadata": {},
     "output_type": "execute_result"
    }
   ],
   "source": [
    "list8 = [1,2,3,4,5,6]\n",
    "list8[-2]='e'\n",
    "list8"
   ]
  },
  {
   "cell_type": "markdown",
   "metadata": {
    "id": "-2YsXQGKVGxY"
   },
   "source": [
    "**[Slide No. - 37]**\n",
    "\n",
    "10. list = [1, 2, 3, 4, 5, 6] \n",
    "\n",
    "replace 1st and 2nd index value by (89,78)\n",
    "\n",
    "print(list) "
   ]
  },
  {
   "cell_type": "code",
   "execution_count": 18,
   "metadata": {
    "colab": {
     "base_uri": "https://localhost:8080/"
    },
    "executionInfo": {
     "elapsed": 755,
     "status": "ok",
     "timestamp": 1621691391244,
     "user": {
      "displayName": "Decodr Academy",
      "photoUrl": "",
      "userId": "02634807145547483916"
     },
     "user_tz": 420
    },
    "id": "G3JxP2ToVGCt",
    "outputId": "c70466bf-8fea-46b6-b830-bf010ce1dd61"
   },
   "outputs": [
    {
     "data": {
      "text/plain": [
       "[1, 89, 78, 4, 5, 6]"
      ]
     },
     "execution_count": 18,
     "metadata": {},
     "output_type": "execute_result"
    }
   ],
   "source": [
    "list9 = [1,2,3,4,5,6]\n",
    "list9[1:3] = [89,78]\n",
    "list9"
   ]
  },
  {
   "cell_type": "markdown",
   "metadata": {
    "id": "5PEGDtZgVeTB"
   },
   "source": [
    "**[Slide No. -38]**\n",
    "\n",
    "11. Create a list and delete 2 to 4 index value  from list ?"
   ]
  },
  {
   "cell_type": "code",
   "execution_count": 23,
   "metadata": {
    "colab": {
     "base_uri": "https://localhost:8080/"
    },
    "executionInfo": {
     "elapsed": 10,
     "status": "ok",
     "timestamp": 1621690578975,
     "user": {
      "displayName": "Decodr Academy",
      "photoUrl": "",
      "userId": "02634807145547483916"
     },
     "user_tz": 420
    },
    "id": "tuy0DMDqZ7Ux",
    "outputId": "0594c0a8-701a-48b8-f6e5-58d403c38512"
   },
   "outputs": [
    {
     "data": {
      "text/plain": [
       "[1, 2, 6]"
      ]
     },
     "execution_count": 23,
     "metadata": {},
     "output_type": "execute_result"
    }
   ],
   "source": [
    "list10 = [1,2,3,4,5,6]\n",
    "del list10[2:5]\n",
    "list10"
   ]
  },
  {
   "cell_type": "markdown",
   "metadata": {
    "id": "-OszCxUMZ8GW"
   },
   "source": [
    "**[Slide No.- 39]**\n",
    "\n",
    "12. Rermove Science  item from the list.\n",
    "\n",
    "Subject =['math', 'science', 'hindi', 'SST', 'Sanskrit']\n"
   ]
  },
  {
   "cell_type": "code",
   "execution_count": 24,
   "metadata": {
    "colab": {
     "base_uri": "https://localhost:8080/"
    },
    "executionInfo": {
     "elapsed": 463,
     "status": "ok",
     "timestamp": 1621690688257,
     "user": {
      "displayName": "Decodr Academy",
      "photoUrl": "",
      "userId": "02634807145547483916"
     },
     "user_tz": 420
    },
    "id": "PwSvcAWJVexl",
    "outputId": "f893e119-1f1c-4695-9670-0ec873c686b1"
   },
   "outputs": [
    {
     "data": {
      "text/plain": [
       "['math', 'hindi', 'SST', 'Sanskrit']"
      ]
     },
     "execution_count": 24,
     "metadata": {},
     "output_type": "execute_result"
    }
   ],
   "source": [
    "subject = ['math', 'science', 'hindi', 'SST', 'Sanskrit']\n",
    "subject.remove('science')\n",
    "subject"
   ]
  },
  {
   "cell_type": "code",
   "execution_count": 25,
   "metadata": {
    "colab": {
     "base_uri": "https://localhost:8080/"
    },
    "executionInfo": {
     "elapsed": 651,
     "status": "ok",
     "timestamp": 1621690737633,
     "user": {
      "displayName": "Decodr Academy",
      "photoUrl": "",
      "userId": "02634807145547483916"
     },
     "user_tz": 420
    },
    "id": "L2loVsc_TFSq",
    "outputId": "97e088dd-e4b5-47f5-ef64-42e024961b0e"
   },
   "outputs": [
    {
     "data": {
      "text/plain": [
       "['math', 'hindi', 'SST', 'Sanskrit']"
      ]
     },
     "execution_count": 25,
     "metadata": {},
     "output_type": "execute_result"
    }
   ],
   "source": [
    "subject = ['math', 'science', 'hindi', 'SST', 'Sanskrit']\n",
    "del subject[1]\n",
    "subject"
   ]
  },
  {
   "cell_type": "code",
   "execution_count": 26,
   "metadata": {
    "id": "udi7tJ8kTsuB"
   },
   "outputs": [
    {
     "data": {
      "text/plain": [
       "['math', 'hindi', 'SST', 'Sanskrit']"
      ]
     },
     "execution_count": 26,
     "metadata": {},
     "output_type": "execute_result"
    }
   ],
   "source": [
    "subject = ['math', 'science', 'hindi', 'SST', 'Sanskrit']\n",
    "subject.pop(1)\n",
    "subject"
   ]
  },
  {
   "cell_type": "code",
   "execution_count": null,
   "metadata": {},
   "outputs": [],
   "source": []
  }
 ],
 "metadata": {
  "colab": {
   "collapsed_sections": [],
   "name": "list_DType.ipynb",
   "provenance": []
  },
  "kernelspec": {
   "display_name": "Python 3",
   "language": "python",
   "name": "python3"
  },
  "language_info": {
   "codemirror_mode": {
    "name": "ipython",
    "version": 3
   },
   "file_extension": ".py",
   "mimetype": "text/x-python",
   "name": "python",
   "nbconvert_exporter": "python",
   "pygments_lexer": "ipython3",
   "version": "3.8.8"
  }
 },
 "nbformat": 4,
 "nbformat_minor": 1
}
