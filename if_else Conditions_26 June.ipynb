{
 "cells": [
  {
   "cell_type": "markdown",
   "metadata": {
    "id": "R4WDgVjUKTuW"
   },
   "source": [
    "**[Slide no.52]**\n",
    "\n",
    "1. write a program to Check wheather the age entered by user is above 18 or not?"
   ]
  },
  {
   "cell_type": "code",
   "execution_count": 4,
   "metadata": {
    "colab": {
     "base_uri": "https://localhost:8080/",
     "height": 130
    },
    "executionInfo": {
     "elapsed": 15,
     "status": "error",
     "timestamp": 1624713370431,
     "user": {
      "displayName": "Akhila C V",
      "photoUrl": "https://lh3.googleusercontent.com/a-/AOh14GiTSL765roVFmrrfafRvxp1kXGpeb50MPDX71vYFQ=s64",
      "userId": "05579353622475442871"
     },
     "user_tz": -330
    },
    "id": "QUYDTLIKKVM3",
    "outputId": "8f89d865-51ee-4ee6-94cf-6cad78fef705"
   },
   "outputs": [
    {
     "name": "stdout",
     "output_type": "stream",
     "text": [
      "14\n",
      "not eligible\n"
     ]
    }
   ],
   "source": [
    "age = int(input())\n",
    "if age >= 18:\n",
    "    print('eligible')\n",
    "else:\n",
    "    print('not eligible')\n"
   ]
  },
  {
   "cell_type": "markdown",
   "metadata": {
    "id": "UtMMk_C_KVaA"
   },
   "source": [
    "**[Slide No. 52]**\n",
    "\n",
    "2. Write a program to check number entered is even or not ?"
   ]
  },
  {
   "cell_type": "code",
   "execution_count": 6,
   "metadata": {
    "id": "tdX72iluKVu5"
   },
   "outputs": [
    {
     "name": "stdout",
     "output_type": "stream",
     "text": [
      "Enter a Number: 31\n",
      "31 is an Odd Number\n"
     ]
    }
   ],
   "source": [
    "n = int(input('Enter a Number: '))\n",
    "if n%2 == 0:\n",
    "    print(f'{n} is an Even Number')\n",
    "else:\n",
    "    print(f'{n} is an Odd Number')"
   ]
  },
  {
   "cell_type": "markdown",
   "metadata": {
    "id": "Pf8qWzurKWDn"
   },
   "source": [
    "**[Slide No. 53]**\n",
    "\n",
    "3. Write a program to print largest number from three given numbers."
   ]
  },
  {
   "cell_type": "code",
   "execution_count": 16,
   "metadata": {
    "id": "RlgJ1ag0MjCy"
   },
   "outputs": [
    {
     "name": "stdout",
     "output_type": "stream",
     "text": [
      "Enter the First Number: 7\n",
      "Enter the Second Number: 5\n",
      "Enter the Third Number: 6\n",
      "7 is the Highest of the given numbers\n"
     ]
    }
   ],
   "source": [
    "a = int(input('Enter the First Number: '))\n",
    "b = int(input('Enter the Second Number: '))\n",
    "c = int(input('Enter the Third Number: '))\n",
    "if a > b and a > c:\n",
    "    print(f'{a} is the Highest of the given numbers')\n",
    "elif b > a and b > c:\n",
    "    print(f'{b} is the Highest of the given numbers')\n",
    "else:\n",
    "    print(f'{c} is the Highest of the given numbers')"
   ]
  },
  {
   "cell_type": "markdown",
   "metadata": {
    "id": "lXjKH26aKWHy"
   },
   "source": [
    "**[Slide No.54]**\n",
    "\n",
    "4. Write a program to check whether the user enter number is 10,50 and 100 .\n",
    "\n"
   ]
  },
  {
   "cell_type": "code",
   "execution_count": 27,
   "metadata": {
    "id": "4IsUverrMj-s"
   },
   "outputs": [
    {
     "name": "stdout",
     "output_type": "stream",
     "text": [
      "Enter a Number: 50\n",
      "User given number is 50\n"
     ]
    }
   ],
   "source": [
    "n = int(input('Enter a Number: '))\n",
    "if n == 10 or n == 50 or n ==100:\n",
    "    print(f'User given number is {n}')\n",
    "else:\n",
    "    print(\"Error! You've not given 10, 50 or 100\")"
   ]
  },
  {
   "cell_type": "markdown",
   "metadata": {
    "id": "hzFpudkgKWhJ"
   },
   "source": [
    "**[Slide No. 54]**\n",
    "\n",
    "5. Write a program to check given number is multiple of 6 or not ."
   ]
  },
  {
   "cell_type": "code",
   "execution_count": 22,
   "metadata": {
    "id": "GcyVovq0y9Ak"
   },
   "outputs": [
    {
     "name": "stdout",
     "output_type": "stream",
     "text": [
      "Enter a Number: 33\n",
      "33 is not a multiple of 6\n"
     ]
    }
   ],
   "source": [
    "n = int(input('Enter a Number: '))\n",
    "if n%6 == 0:\n",
    "    print(f'{n} is a multiple of 6')\n",
    "else:\n",
    "    print(f'{n} is not a multiple of 6')"
   ]
  },
  {
   "cell_type": "markdown",
   "metadata": {
    "id": "ih7KTp-1HD9F"
   },
   "source": [
    "6.Write av program to check enter number is prime or not"
   ]
  },
  {
   "cell_type": "code",
   "execution_count": 44,
   "metadata": {
    "id": "XCZTMjr0HDg-"
   },
   "outputs": [
    {
     "name": "stdout",
     "output_type": "stream",
     "text": [
      "Enter a Number: 10\n",
      "10 is not a Prime number\n"
     ]
    }
   ],
   "source": [
    "n = int(input('Enter a Number: '))\n",
    "if n > 1:\n",
    "    for i in range(2,n):\n",
    "        if n%i == 0:\n",
    "            print(f'{n} is not a Prime number')\n",
    "            break\n",
    "    else:\n",
    "        print(f'{n} is a Prime number')\n",
    "else:\n",
    "    print(f'{n} is not a Prime Number')"
   ]
  }
 ],
 "metadata": {
  "colab": {
   "collapsed_sections": [],
   "name": "if_else Conditions.ipynb",
   "provenance": []
  },
  "kernelspec": {
   "display_name": "Python 3",
   "language": "python",
   "name": "python3"
  },
  "language_info": {
   "codemirror_mode": {
    "name": "ipython",
    "version": 3
   },
   "file_extension": ".py",
   "mimetype": "text/x-python",
   "name": "python",
   "nbconvert_exporter": "python",
   "pygments_lexer": "ipython3",
   "version": "3.8.8"
  }
 },
 "nbformat": 4,
 "nbformat_minor": 1
}
