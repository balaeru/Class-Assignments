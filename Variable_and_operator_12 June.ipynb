{
 "cells": [
  {
   "cell_type": "markdown",
   "metadata": {
    "id": "xkS9gXm7JAwb"
   },
   "source": [
    "# Variable and Operator "
   ]
  },
  {
   "cell_type": "markdown",
   "metadata": {
    "id": "bpWJpSkLKLHd"
   },
   "source": [
    "**[Slide No.- 19]**\n",
    "\n",
    "1. Which one of the following is correct way of declaring and initialising a variable, x with value 5?\n",
    "\n",
    "A. int x\n",
    "  \n",
    "    x=5\n",
    "\n",
    "B. int x=5\n",
    "\n",
    "C. x=5\n",
    "\n",
    "D. declare x=5\n",
    "\n",
    "\n",
    "\n",
    "\n"
   ]
  },
  {
   "cell_type": "code",
   "execution_count": 2,
   "metadata": {
    "colab": {
     "base_uri": "https://localhost:8080/"
    },
    "executionInfo": {
     "elapsed": 463,
     "status": "ok",
     "timestamp": 1623504034045,
     "user": {
      "displayName": "Rohit Reddy",
      "photoUrl": "",
      "userId": "02730466121517960450"
     },
     "user_tz": -330
    },
    "id": "-gWs4ttlI3TT",
    "outputId": "2ba8da11-0382-4cf4-daa4-ebba41ee2943"
   },
   "outputs": [
    {
     "name": "stdout",
     "output_type": "stream",
     "text": [
      "5\n"
     ]
    }
   ],
   "source": [
    "# Check your Answer\n",
    "x = 5\n",
    "print(x)"
   ]
  },
  {
   "cell_type": "markdown",
   "metadata": {
    "id": "gpg53f-UKhi1"
   },
   "source": [
    "**[Slide No.-19]**\n",
    "\n",
    "2. Which of the following is not valid variable name in Python?\n",
    "\n",
    "A. _var = 6\n",
    "\n",
    "B. var_name = 6\n",
    "\n",
    "C. var11 = 6\n",
    "\n",
    "D. 11var = 6"
   ]
  },
  {
   "cell_type": "code",
   "execution_count": 2,
   "metadata": {
    "id": "4eFCqihlKg6W"
   },
   "outputs": [
    {
     "ename": "SyntaxError",
     "evalue": "invalid syntax (<ipython-input-2-23e0aa1b4133>, line 2)",
     "output_type": "error",
     "traceback": [
      "\u001b[1;36m  File \u001b[1;32m\"<ipython-input-2-23e0aa1b4133>\"\u001b[1;36m, line \u001b[1;32m2\u001b[0m\n\u001b[1;33m    11var = 6\u001b[0m\n\u001b[1;37m      ^\u001b[0m\n\u001b[1;31mSyntaxError\u001b[0m\u001b[1;31m:\u001b[0m invalid syntax\n"
     ]
    }
   ],
   "source": [
    "#Check your Answer\n",
    "11var = 6"
   ]
  },
  {
   "cell_type": "markdown",
   "metadata": {
    "id": "uIU52OVeLOO2"
   },
   "source": [
    "**[Slide No.- 19]**\n",
    "\n",
    "\n",
    "3. Which of the following will give error?\n",
    "\n",
    "A. a=b=c=1\n",
    "\n",
    "B. a,b,c=1\n",
    "\n",
    "C. a b c=1, 4, 1.5\n",
    "\n",
    "D. None of the above"
   ]
  },
  {
   "cell_type": "code",
   "execution_count": 3,
   "metadata": {
    "id": "ZFU-przBLmgX"
   },
   "outputs": [
    {
     "ename": "SyntaxError",
     "evalue": "invalid syntax (<ipython-input-3-0a7eeac0fdec>, line 2)",
     "output_type": "error",
     "traceback": [
      "\u001b[1;36m  File \u001b[1;32m\"<ipython-input-3-0a7eeac0fdec>\"\u001b[1;36m, line \u001b[1;32m2\u001b[0m\n\u001b[1;33m    a b c = 1,4,1.5\u001b[0m\n\u001b[1;37m      ^\u001b[0m\n\u001b[1;31mSyntaxError\u001b[0m\u001b[1;31m:\u001b[0m invalid syntax\n"
     ]
    }
   ],
   "source": [
    "#Check your Answer\n",
    "a b c = 1,4,1.5"
   ]
  },
  {
   "cell_type": "markdown",
   "metadata": {
    "id": "sOaKfvOMMdEw"
   },
   "source": [
    "**[Slide No.- 21]**\n",
    "\n",
    "4. What is the output of the following code\n",
    "\n",
    "x = 6\n",
    "\n",
    "y = 2\n",
    "\n",
    "a=print(x ** y)\n",
    "\n",
    "b= print(x // y)"
   ]
  },
  {
   "cell_type": "code",
   "execution_count": 5,
   "metadata": {
    "id": "8Y5nOCbuLywt"
   },
   "outputs": [
    {
     "name": "stdout",
     "output_type": "stream",
     "text": [
      "36\n",
      "3\n"
     ]
    }
   ],
   "source": [
    "#Check your Answer\n",
    "x = 6\n",
    "y = 2\n",
    "a = print(x**y)\n",
    "b = print(x//y)"
   ]
  },
  {
   "cell_type": "markdown",
   "metadata": {
    "id": "-FxzjkhMNkZw"
   },
   "source": [
    "**[Slide No.-21]**\n",
    "\n",
    "# find the value of this expression (v+w) * x/ y\n",
    "v = 4\n",
    "\n",
    "w = 5\n",
    "\n",
    "x = 8\n",
    "\n",
    "\n",
    "y = 2\n",
    "\n",
    "z = 0"
   ]
  },
  {
   "cell_type": "code",
   "execution_count": 1,
   "metadata": {
    "id": "kx6gTDJWNjnT"
   },
   "outputs": [
    {
     "name": "stdout",
     "output_type": "stream",
     "text": [
      "36.0\n"
     ]
    }
   ],
   "source": [
    "# find the value of this expression (v+w) * x/ y\n",
    "v = 4\n",
    "\n",
    "w = 5\n",
    "\n",
    "x = 8\n",
    "\n",
    "y = 2\n",
    "\n",
    "z = 0\n",
    "\n",
    "print((v+w)*x/y)"
   ]
  },
  {
   "cell_type": "markdown",
   "metadata": {
    "id": "KrG9aIGjN6C5"
   },
   "source": [
    "**[Slide No.- 21]**\n",
    "\n",
    "6. What is the output of print(10 - 4 * 2)"
   ]
  },
  {
   "cell_type": "code",
   "execution_count": 2,
   "metadata": {
    "id": "VfvhDJ2zN5bg"
   },
   "outputs": [
    {
     "name": "stdout",
     "output_type": "stream",
     "text": [
      "2\n"
     ]
    }
   ],
   "source": [
    "#Check your Answer\n",
    "print(10-4*2)"
   ]
  },
  {
   "cell_type": "markdown",
   "metadata": {
    "id": "k3JGKOfQOBhQ"
   },
   "source": [
    "**[Slide No.-21]**\n",
    "\n",
    "7. What is the output of print(2 * 3 ** 3 * 4)"
   ]
  },
  {
   "cell_type": "code",
   "execution_count": 3,
   "metadata": {
    "id": "BYuPgLHZOAr4"
   },
   "outputs": [
    {
     "name": "stdout",
     "output_type": "stream",
     "text": [
      "216\n"
     ]
    }
   ],
   "source": [
    "#Check your Answer\n",
    "print(2*3**3*4)"
   ]
  },
  {
   "cell_type": "markdown",
   "metadata": {
    "id": "xW2pUR61OMGp"
   },
   "source": [
    "8. What is the output of the expression  print(-18 // 4)"
   ]
  },
  {
   "cell_type": "code",
   "execution_count": 4,
   "metadata": {
    "colab": {
     "base_uri": "https://localhost:8080/"
    },
    "executionInfo": {
     "elapsed": 522,
     "status": "ok",
     "timestamp": 1622293040079,
     "user": {
      "displayName": "Krishan Kumar",
      "photoUrl": "",
      "userId": "12260471180281868064"
     },
     "user_tz": 420
    },
    "id": "nkDvUrFIOLWo",
    "outputId": "e37eadee-a23c-480d-e74d-6c86309f1c43"
   },
   "outputs": [
    {
     "name": "stdout",
     "output_type": "stream",
     "text": [
      "-5\n"
     ]
    }
   ],
   "source": [
    "print(-17 // 4)      #Floor division    -4.5  =-5"
   ]
  },
  {
   "cell_type": "code",
   "execution_count": 5,
   "metadata": {
    "colab": {
     "base_uri": "https://localhost:8080/"
    },
    "executionInfo": {
     "elapsed": 568,
     "status": "ok",
     "timestamp": 1622293417133,
     "user": {
      "displayName": "Krishan Kumar",
      "photoUrl": "",
      "userId": "12260471180281868064"
     },
     "user_tz": 420
    },
    "id": "lUjjFOHcMk3z",
    "outputId": "69b8c018-3074-40cd-8252-a1af7f82e061"
   },
   "outputs": [
    {
     "name": "stdout",
     "output_type": "stream",
     "text": [
      "-8\n"
     ]
    }
   ],
   "source": [
    "x=8\n",
    "x -=8+x    # X+8+8       x += 8       # x-(8+x)=x-8-x\n",
    "print(x)"
   ]
  },
  {
   "cell_type": "markdown",
   "metadata": {
    "id": "jKsDtqzXOu1Y"
   },
   "source": [
    "**[Slide No.- 21]**\n",
    "\n",
    "9. Write a program to check 5 is less then 10 or greater then 3."
   ]
  },
  {
   "cell_type": "code",
   "execution_count": 4,
   "metadata": {
    "colab": {
     "base_uri": "https://localhost:8080/"
    },
    "executionInfo": {
     "elapsed": 550,
     "status": "ok",
     "timestamp": 1622293769987,
     "user": {
      "displayName": "Krishan Kumar",
      "photoUrl": "",
      "userId": "12260471180281868064"
     },
     "user_tz": 420
    },
    "id": "F-FwpWUMOuNU",
    "outputId": "df760df8-4516-4149-b887-04b7dc8df481"
   },
   "outputs": [
    {
     "name": "stdout",
     "output_type": "stream",
     "text": [
      "5 is less then 10 or greater then 3\n"
     ]
    }
   ],
   "source": [
    "a,b,c=5,10,3\n",
    "if a<b or a>c:\n",
    "  print('5 is less then 10 or greater then 3')\n",
    "else:\n",
    "  print(\"wrong ourput\")"
   ]
  },
  {
   "cell_type": "code",
   "execution_count": 7,
   "metadata": {
    "colab": {
     "base_uri": "https://localhost:8080/"
    },
    "executionInfo": {
     "elapsed": 8644,
     "status": "ok",
     "timestamp": 1622294037372,
     "user": {
      "displayName": "Krishan Kumar",
      "photoUrl": "",
      "userId": "12260471180281868064"
     },
     "user_tz": 420
    },
    "id": "Nj9PysQhPv-N",
    "outputId": "7580d2c8-1b81-4d2c-e6e1-a78d94d342b9"
   },
   "outputs": [
    {
     "name": "stdout",
     "output_type": "stream",
     "text": [
      "enter number5\n",
      "enter number10\n",
      "enter number3\n",
      "true\n"
     ]
    }
   ],
   "source": [
    "a=int(input('enter number'))    # usaed to take the input from the user\n",
    "b=int(input('enter number'))\n",
    "c=int(input('enter number'))\n",
    "if a<b or a>c:\n",
    "  print('true')\n",
    "else:\n",
    "  print('false')\n"
   ]
  },
  {
   "cell_type": "markdown",
   "metadata": {
    "id": "tZ86dv17lJaf"
   },
   "source": [
    "10 . Write a program  by using 'and' ,'or' And 'not' operator ?"
   ]
  },
  {
   "cell_type": "code",
   "execution_count": 8,
   "metadata": {
    "colab": {
     "base_uri": "https://localhost:8080/"
    },
    "executionInfo": {
     "elapsed": 937,
     "status": "ok",
     "timestamp": 1622294268233,
     "user": {
      "displayName": "Krishan Kumar",
      "photoUrl": "",
      "userId": "12260471180281868064"
     },
     "user_tz": 420
    },
    "id": "81iiP2NKvwXV",
    "outputId": "08dfd9eb-fead-4d47-f642-5140002d3359"
   },
   "outputs": [
    {
     "name": "stdout",
     "output_type": "stream",
     "text": [
      "True\n",
      "False\n",
      "False\n"
     ]
    }
   ],
   "source": [
    "a=3\n",
    "b=7\n",
    "print(a==3 or b==8)\n",
    "print(a==7 and b==7)\n",
    "print(a!=3)"
   ]
  },
  {
   "cell_type": "code",
   "execution_count": 9,
   "metadata": {
    "colab": {
     "base_uri": "https://localhost:8080/"
    },
    "executionInfo": {
     "elapsed": 16,
     "status": "ok",
     "timestamp": 1622294321732,
     "user": {
      "displayName": "Krishan Kumar",
      "photoUrl": "",
      "userId": "12260471180281868064"
     },
     "user_tz": 420
    },
    "id": "q-veNPPBRsLj",
    "outputId": "5d115795-76e0-4370-e848-b67e3411391e"
   },
   "outputs": [
    {
     "name": "stdout",
     "output_type": "stream",
     "text": [
      "True\n"
     ]
    }
   ],
   "source": [
    "print (((10 > 2) or (2 < 5)) and (7 != 9))\n"
   ]
  },
  {
   "cell_type": "markdown",
   "metadata": {
    "id": "4h-oViRKvxJY"
   },
   "source": [
    "**[Slide No.- 27]**\n",
    "\n",
    "11. What is the output of the following assignment operator\n",
    "\n",
    "y = 10\n",
    "\n",
    "y += 2\n",
    "\n",
    "print(y)"
   ]
  },
  {
   "cell_type": "code",
   "execution_count": 10,
   "metadata": {
    "id": "rK0jrT2Kv4Do"
   },
   "outputs": [
    {
     "name": "stdout",
     "output_type": "stream",
     "text": [
      "12\n"
     ]
    }
   ],
   "source": [
    "y=10\n",
    "y+=2\n",
    "print(y)"
   ]
  },
  {
   "cell_type": "markdown",
   "metadata": {
    "id": "RodqAVuDRXcY"
   },
   "source": [
    "**[Slide No.-27]**\n",
    "\n",
    "12. What is the output of the code .\n",
    "\n",
    "x=5\n",
    "\n",
    "x +=x+4\n",
    "\n",
    "print(x)\n"
   ]
  },
  {
   "cell_type": "code",
   "execution_count": 11,
   "metadata": {
    "colab": {
     "base_uri": "https://localhost:8080/"
    },
    "executionInfo": {
     "elapsed": 1050,
     "status": "ok",
     "timestamp": 1620471778696,
     "user": {
      "displayName": "Decodr Academy",
      "photoUrl": "",
      "userId": "02634807145547483916"
     },
     "user_tz": 420
    },
    "id": "qZ7OH6KIRaJJ",
    "outputId": "20073ddf-3462-4817-b445-ab789f6767af"
   },
   "outputs": [
    {
     "name": "stdout",
     "output_type": "stream",
     "text": [
      "14\n"
     ]
    }
   ],
   "source": [
    "x=5\n",
    "x+=x+4\n",
    "print(x)"
   ]
  },
  {
   "cell_type": "markdown",
   "metadata": {
    "id": "ymG3gW4eT3F7"
   },
   "source": [
    "**[Slide No.-27]**\n",
    "\n",
    "13.  what is the output :\n",
    "\n",
    "y=7\n",
    "\n",
    "x  +=y+4\n",
    "\n",
    "print(x)"
   ]
  },
  {
   "cell_type": "code",
   "execution_count": 12,
   "metadata": {
    "colab": {
     "base_uri": "https://localhost:8080/"
    },
    "executionInfo": {
     "elapsed": 484,
     "status": "ok",
     "timestamp": 1622295598263,
     "user": {
      "displayName": "Decodr Academy",
      "photoUrl": "",
      "userId": "02634807145547483916"
     },
     "user_tz": 420
    },
    "id": "4tW3Sr0bSOTK",
    "outputId": "9a08dd1e-d7dd-4b42-c35b-cf3e066f70c9"
   },
   "outputs": [
    {
     "name": "stdout",
     "output_type": "stream",
     "text": [
      "25\n"
     ]
    }
   ],
   "source": [
    "y=7\n",
    "x+=y+4\n",
    "print(x)"
   ]
  }
 ],
 "metadata": {
  "colab": {
   "collapsed_sections": [],
   "name": "Variable_and_operator_.ipynb",
   "provenance": []
  },
  "kernelspec": {
   "display_name": "Python 3",
   "language": "python",
   "name": "python3"
  },
  "language_info": {
   "codemirror_mode": {
    "name": "ipython",
    "version": 3
   },
   "file_extension": ".py",
   "mimetype": "text/x-python",
   "name": "python",
   "nbconvert_exporter": "python",
   "pygments_lexer": "ipython3",
   "version": "3.8.8"
  }
 },
 "nbformat": 4,
 "nbformat_minor": 1
}
