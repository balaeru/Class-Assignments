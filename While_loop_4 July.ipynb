{
 "cells": [
  {
   "cell_type": "markdown",
   "id": "12a21a25",
   "metadata": {},
   "source": [
    "# 1. Print multiplication table of 24 and 50 upto 10"
   ]
  },
  {
   "cell_type": "code",
   "execution_count": 24,
   "id": "0bf5e71c",
   "metadata": {},
   "outputs": [
    {
     "name": "stdout",
     "output_type": "stream",
     "text": [
      "24*1=24\n",
      "24*2=48\n",
      "24*3=72\n",
      "24*4=96\n",
      "24*5=120\n",
      "24*6=144\n",
      "24*7=168\n",
      "24*8=192\n",
      "24*9=216\n",
      "24*10=240\n",
      "_________\n",
      "50*1=50\n",
      "50*2=100\n",
      "50*3=150\n",
      "50*4=200\n",
      "50*5=250\n",
      "50*6=300\n",
      "50*7=350\n",
      "50*8=400\n",
      "50*9=450\n",
      "50*10=500\n",
      "_________\n"
     ]
    }
   ],
   "source": [
    "nums = [24,50]\n",
    "for n in nums:\n"        #Using For loop to iterate through the nums list to get 24 and 50,
    "    i = 1\n",
    "    while i<=10:\n",
    "        print(f'{n}*{i}={n*i}')\n",
    "        i += 1\n",
    "    print('_________')"
   ]
  },
  {
   "cell_type": "markdown",
   "id": "7f08437c",
   "metadata": {},
   "source": [
    "# 2.Write a while loop statement to print the following series 107,100,93,86....9"
   ]
  },
  {
   "cell_type": "code",
   "execution_count": 28,
   "id": "7bc3f5f6",
   "metadata": {},
   "outputs": [
    {
     "name": "stdout",
     "output_type": "stream",
     "text": [
      "107, 100, 93, 86, 79, 72, 65, 58, 51, 44, 37, 30, 23, 16, 9, "
     ]
    }
   ],
   "source": [
    "i = 107\n",
    "while i >= 9:\n",
    "    print(i, end=', ')\n",
    "    i = i - 7"
   ]
  },
  {
   "cell_type": "markdown",
   "id": "2b08396b",
   "metadata": {},
   "source": [
    "# 3. Write a program to print the factorial of a number accepted from user."
   ]
  },
  {
   "cell_type": "code",
   "execution_count": 30,
   "id": "9a683d50",
   "metadata": {},
   "outputs": [
    {
     "name": "stdout",
     "output_type": "stream",
     "text": [
      "Enter a number: 5\n",
      "Factorial:  120\n"
     ]
    }
   ],
   "source": [
    "num = int(input('Enter a number: '))\n",
    "i = 1\n",
    "fact = 1\n",
    "while i <= num:\n",
    "    fact *= i\n",
    "    i += 1\n",
    "print('Factorial: ',fact)"
   ]
  },
  {
   "cell_type": "markdown",
   "id": "e89a712d",
   "metadata": {},
   "source": [
    "# 4.Write a program to accept 10 numbers from the user and display it’s average"
   ]
  },
  {
   "cell_type": "code",
   "execution_count": 31,
   "id": "239568a8",
   "metadata": {},
   "outputs": [
    {
     "name": "stdout",
     "output_type": "stream",
     "text": [
      "Enter 10 numbers: \n",
      "0\n",
      "1\n",
      "2\n",
      "3\n",
      "4\n",
      "5\n",
      "6\n",
      "7\n",
      "8\n",
      "9\n",
      "Sum of all the numbers is:  45\n"
     ]
    }
   ],
   "source": [
    "i = 1\n",
    "sum = 0\n",
    "print('Enter 10 numbers: ')\n",
    "while i<=10:\n",
    "    num = int(input())\n",
    "    sum += num\n",
    "    i += 1\n",
    "print('Sum of all the numbers is: ',sum)"
   ]
  },
  {
   "cell_type": "markdown",
   "id": "c06789e5",
   "metadata": {},
   "source": [
    "# 5. Write a program to print the following series till n terms. 2 , 22 , 222 , 2222 _ _ _ _ _ n terms"
   ]
  },
  {
   "cell_type": "code",
   "execution_count": 21,
   "id": "4254784c",
   "metadata": {},
   "outputs": [
    {
     "name": "stdout",
     "output_type": "stream",
     "text": [
      "Enter the number of terms you would like: 6\n",
      "2, 22, 222, 2222, 22222, 222222, "
     ]
    }
   ],
   "source": [
    "n = int(input('Enter the number of terms you would like: '))\n",
    "i = 1\n",
    "while i<=n:\n",
    "    print('2'*i, end = ', ')\n",
    "    i += 1"
   ]
  },
  {
   "cell_type": "markdown",
   "id": "e112e4f2",
   "metadata": {},
   "source": [
    "# 6.Write a Program to print all the characters in the string ‘PYTHON’ using while loop."
   ]
  },
  {
   "cell_type": "code",
   "execution_count": 22,
   "id": "94c69f7c",
   "metadata": {},
   "outputs": [
    {
     "name": "stdout",
     "output_type": "stream",
     "text": [
      "P\n",
      "Y\n",
      "T\n",
      "H\n",
      "O\n",
      "N\n"
     ]
    }
   ],
   "source": [
    "i = 0\n",
    "string = 'PYTHON'\n",
    "while i<len(string):\n",
    "    print(string[i])\n",
    "    i += 1"
   ]
  }
 ],
 "metadata": {
  "kernelspec": {
   "display_name": "Python 3",
   "language": "python",
   "name": "python3"
  },
  "language_info": {
   "codemirror_mode": {
    "name": "ipython",
    "version": 3
   },
   "file_extension": ".py",
   "mimetype": "text/x-python",
   "name": "python",
   "nbconvert_exporter": "python",
   "pygments_lexer": "ipython3",
   "version": "3.8.8"
  }
 },
 "nbformat": 4,
 "nbformat_minor": 5
}
